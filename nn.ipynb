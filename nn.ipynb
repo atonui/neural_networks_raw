{
 "cells": [
  {
   "cell_type": "code",
   "execution_count": 78,
   "id": "4710aba6",
   "metadata": {},
   "outputs": [],
   "source": [
    "import pandas as pd\n",
    "import numpy as np\n",
    "import matplotlib.pyplot as plt"
   ]
  },
  {
   "cell_type": "code",
   "execution_count": 79,
   "id": "59fee4bd",
   "metadata": {},
   "outputs": [],
   "source": [
    "data = pd.read_csv('train.csv')"
   ]
  },
  {
   "cell_type": "code",
   "execution_count": 80,
   "id": "bf996000",
   "metadata": {},
   "outputs": [
    {
     "data": {
      "text/html": [
       "<div>\n",
       "<style scoped>\n",
       "    .dataframe tbody tr th:only-of-type {\n",
       "        vertical-align: middle;\n",
       "    }\n",
       "\n",
       "    .dataframe tbody tr th {\n",
       "        vertical-align: top;\n",
       "    }\n",
       "\n",
       "    .dataframe thead th {\n",
       "        text-align: right;\n",
       "    }\n",
       "</style>\n",
       "<table border=\"1\" class=\"dataframe\">\n",
       "  <thead>\n",
       "    <tr style=\"text-align: right;\">\n",
       "      <th></th>\n",
       "      <th>label</th>\n",
       "      <th>pixel0</th>\n",
       "      <th>pixel1</th>\n",
       "      <th>pixel2</th>\n",
       "      <th>pixel3</th>\n",
       "      <th>pixel4</th>\n",
       "      <th>pixel5</th>\n",
       "      <th>pixel6</th>\n",
       "      <th>pixel7</th>\n",
       "      <th>pixel8</th>\n",
       "      <th>...</th>\n",
       "      <th>pixel774</th>\n",
       "      <th>pixel775</th>\n",
       "      <th>pixel776</th>\n",
       "      <th>pixel777</th>\n",
       "      <th>pixel778</th>\n",
       "      <th>pixel779</th>\n",
       "      <th>pixel780</th>\n",
       "      <th>pixel781</th>\n",
       "      <th>pixel782</th>\n",
       "      <th>pixel783</th>\n",
       "    </tr>\n",
       "  </thead>\n",
       "  <tbody>\n",
       "    <tr>\n",
       "      <th>0</th>\n",
       "      <td>1</td>\n",
       "      <td>0</td>\n",
       "      <td>0</td>\n",
       "      <td>0</td>\n",
       "      <td>0</td>\n",
       "      <td>0</td>\n",
       "      <td>0</td>\n",
       "      <td>0</td>\n",
       "      <td>0</td>\n",
       "      <td>0</td>\n",
       "      <td>...</td>\n",
       "      <td>0</td>\n",
       "      <td>0</td>\n",
       "      <td>0</td>\n",
       "      <td>0</td>\n",
       "      <td>0</td>\n",
       "      <td>0</td>\n",
       "      <td>0</td>\n",
       "      <td>0</td>\n",
       "      <td>0</td>\n",
       "      <td>0</td>\n",
       "    </tr>\n",
       "    <tr>\n",
       "      <th>1</th>\n",
       "      <td>0</td>\n",
       "      <td>0</td>\n",
       "      <td>0</td>\n",
       "      <td>0</td>\n",
       "      <td>0</td>\n",
       "      <td>0</td>\n",
       "      <td>0</td>\n",
       "      <td>0</td>\n",
       "      <td>0</td>\n",
       "      <td>0</td>\n",
       "      <td>...</td>\n",
       "      <td>0</td>\n",
       "      <td>0</td>\n",
       "      <td>0</td>\n",
       "      <td>0</td>\n",
       "      <td>0</td>\n",
       "      <td>0</td>\n",
       "      <td>0</td>\n",
       "      <td>0</td>\n",
       "      <td>0</td>\n",
       "      <td>0</td>\n",
       "    </tr>\n",
       "    <tr>\n",
       "      <th>2</th>\n",
       "      <td>1</td>\n",
       "      <td>0</td>\n",
       "      <td>0</td>\n",
       "      <td>0</td>\n",
       "      <td>0</td>\n",
       "      <td>0</td>\n",
       "      <td>0</td>\n",
       "      <td>0</td>\n",
       "      <td>0</td>\n",
       "      <td>0</td>\n",
       "      <td>...</td>\n",
       "      <td>0</td>\n",
       "      <td>0</td>\n",
       "      <td>0</td>\n",
       "      <td>0</td>\n",
       "      <td>0</td>\n",
       "      <td>0</td>\n",
       "      <td>0</td>\n",
       "      <td>0</td>\n",
       "      <td>0</td>\n",
       "      <td>0</td>\n",
       "    </tr>\n",
       "    <tr>\n",
       "      <th>3</th>\n",
       "      <td>4</td>\n",
       "      <td>0</td>\n",
       "      <td>0</td>\n",
       "      <td>0</td>\n",
       "      <td>0</td>\n",
       "      <td>0</td>\n",
       "      <td>0</td>\n",
       "      <td>0</td>\n",
       "      <td>0</td>\n",
       "      <td>0</td>\n",
       "      <td>...</td>\n",
       "      <td>0</td>\n",
       "      <td>0</td>\n",
       "      <td>0</td>\n",
       "      <td>0</td>\n",
       "      <td>0</td>\n",
       "      <td>0</td>\n",
       "      <td>0</td>\n",
       "      <td>0</td>\n",
       "      <td>0</td>\n",
       "      <td>0</td>\n",
       "    </tr>\n",
       "    <tr>\n",
       "      <th>4</th>\n",
       "      <td>0</td>\n",
       "      <td>0</td>\n",
       "      <td>0</td>\n",
       "      <td>0</td>\n",
       "      <td>0</td>\n",
       "      <td>0</td>\n",
       "      <td>0</td>\n",
       "      <td>0</td>\n",
       "      <td>0</td>\n",
       "      <td>0</td>\n",
       "      <td>...</td>\n",
       "      <td>0</td>\n",
       "      <td>0</td>\n",
       "      <td>0</td>\n",
       "      <td>0</td>\n",
       "      <td>0</td>\n",
       "      <td>0</td>\n",
       "      <td>0</td>\n",
       "      <td>0</td>\n",
       "      <td>0</td>\n",
       "      <td>0</td>\n",
       "    </tr>\n",
       "  </tbody>\n",
       "</table>\n",
       "<p>5 rows × 785 columns</p>\n",
       "</div>"
      ],
      "text/plain": [
       "   label  pixel0  pixel1  pixel2  pixel3  pixel4  pixel5  pixel6  pixel7  \\\n",
       "0      1       0       0       0       0       0       0       0       0   \n",
       "1      0       0       0       0       0       0       0       0       0   \n",
       "2      1       0       0       0       0       0       0       0       0   \n",
       "3      4       0       0       0       0       0       0       0       0   \n",
       "4      0       0       0       0       0       0       0       0       0   \n",
       "\n",
       "   pixel8  ...  pixel774  pixel775  pixel776  pixel777  pixel778  pixel779  \\\n",
       "0       0  ...         0         0         0         0         0         0   \n",
       "1       0  ...         0         0         0         0         0         0   \n",
       "2       0  ...         0         0         0         0         0         0   \n",
       "3       0  ...         0         0         0         0         0         0   \n",
       "4       0  ...         0         0         0         0         0         0   \n",
       "\n",
       "   pixel780  pixel781  pixel782  pixel783  \n",
       "0         0         0         0         0  \n",
       "1         0         0         0         0  \n",
       "2         0         0         0         0  \n",
       "3         0         0         0         0  \n",
       "4         0         0         0         0  \n",
       "\n",
       "[5 rows x 785 columns]"
      ]
     },
     "execution_count": 80,
     "metadata": {},
     "output_type": "execute_result"
    }
   ],
   "source": [
    "data.head()"
   ]
  },
  {
   "cell_type": "markdown",
   "id": "ee1d9329",
   "metadata": {},
   "source": [
    "Each row is and example."
   ]
  },
  {
   "cell_type": "code",
   "execution_count": 81,
   "id": "8d1b364f",
   "metadata": {},
   "outputs": [
    {
     "name": "stdout",
     "output_type": "stream",
     "text": [
      "Train:  (42000, 785)\n"
     ]
    }
   ],
   "source": [
    "# convert the pandas dataframe to a numpy array so we can perform matrix operations\n",
    "data = data.to_numpy()\n",
    "print('Train: ',data.shape)"
   ]
  },
  {
   "cell_type": "code",
   "execution_count": 82,
   "id": "67d12bec",
   "metadata": {},
   "outputs": [],
   "source": [
    "m, n = data.shape\n",
    "# shuffle the data so we can split it into train and validation sets\n",
    "np.random.shuffle(data)\n",
    "# split the data into train and validation sets\n",
    "train_set = data[:30000].T # we transpose the data so that columns are examples\n",
    "y_train = train_set[0] # first column is the label\n",
    "X_train = train_set[1:n] # rest of the columns are the features\n",
    "\n",
    "# validation data\n",
    "val_set = data[30000:m].T # validation data and we transpose the data\n",
    "y_val = val_set[0] # first column is the label\n",
    "X_val = val_set[1:n] # rest of the columns are the features"
   ]
  },
  {
   "cell_type": "code",
   "execution_count": 83,
   "id": "aa8cc55d",
   "metadata": {},
   "outputs": [
    {
     "data": {
      "text/plain": [
       "(784, 30000)"
      ]
     },
     "execution_count": 83,
     "metadata": {},
     "output_type": "execute_result"
    }
   ],
   "source": [
    "X_train.shape"
   ]
  },
  {
   "cell_type": "code",
   "execution_count": 84,
   "id": "3f5fe954",
   "metadata": {},
   "outputs": [
    {
     "data": {
      "text/plain": [
       "(30000,)"
      ]
     },
     "execution_count": 84,
     "metadata": {},
     "output_type": "execute_result"
    }
   ],
   "source": [
    "y_train.shape"
   ]
  },
  {
   "cell_type": "code",
   "execution_count": 85,
   "id": "1c2669c2",
   "metadata": {},
   "outputs": [
    {
     "data": {
      "text/plain": [
       "array([2, 6, 8, ..., 3, 7, 9], shape=(30000,))"
      ]
     },
     "execution_count": 85,
     "metadata": {},
     "output_type": "execute_result"
    }
   ],
   "source": [
    "y_train"
   ]
  },
  {
   "cell_type": "code",
   "execution_count": 86,
   "id": "8a201821",
   "metadata": {},
   "outputs": [
    {
     "data": {
      "text/plain": [
       "array([[0, 0, 0, ..., 0, 0, 0],\n",
       "       [0, 0, 0, ..., 0, 0, 0],\n",
       "       [0, 0, 0, ..., 0, 0, 0],\n",
       "       ...,\n",
       "       [0, 0, 0, ..., 0, 0, 0],\n",
       "       [0, 0, 0, ..., 0, 0, 0],\n",
       "       [0, 0, 0, ..., 0, 0, 0]], shape=(784, 30000))"
      ]
     },
     "execution_count": 86,
     "metadata": {},
     "output_type": "execute_result"
    }
   ],
   "source": [
    "X_train"
   ]
  },
  {
   "cell_type": "code",
   "execution_count": 87,
   "id": "144e5c63",
   "metadata": {},
   "outputs": [],
   "source": [
    "def init_params():\n",
    "    '''Function to initialise the model parameters'''\n",
    "    W1 = np.random.rand(10, 784) - 0.5 # weight matrix for hidden layer\n",
    "    b1 = np.random.rand(10, 1) - 0.5 # bias for hidden layer\n",
    "    W2 = np.random.rand(10, 10) - 0.5 # weight matrix for output layer\n",
    "    b2 = np.random.rand(10, 1) - 0.5 #  bias for output layer\n",
    "    return W1, b1, W2, b2\n",
    "\n",
    "def ReLU(Z):\n",
    "    '''ReLU activation function\n",
    "    This is an elementwise operation so it goes\n",
    "    through each element of Z and applies the ReLU function'''\n",
    "    return np.maximum(0, Z)\n",
    "\n",
    "def softmax(Z):\n",
    "    '''Softmax activation function'''\n",
    "    expZ = np.exp(Z - np.max(Z)) # subtracting the max for numerical stability\n",
    "    return expZ / expZ.sum(axis=0, keepdims=True) # return softmax of Z\n",
    "\n",
    "def forward_prop(W1, b1, W2, b2, X):\n",
    "    '''Function to perform forward propagation'''\n",
    "    Z1 = W1.dot(X) + b1 # linear activation for hidden layer, 784 x m\n",
    "    A1 = ReLU(Z1) # non-linear activation for hidden layer\n",
    "    Z2 = W2.dot(A1) + b2 # linear activation for output layer\n",
    "    A2 = softmax(Z2) # non-linear activation for output layer\n",
    "    return Z1, A1, Z2, A2 # return all the activations and linear combinations\n",
    "\n",
    "def one_hot_encoding(y):\n",
    "    '''Function to perform one hot encoding'''\n",
    "    m = y.shape[0] # number of examples\n",
    "    y_onehot = np.zeros((10, m)) # one hot encoding of y\n",
    "    for i in range(m):\n",
    "        y_onehot[y[i], i] = 1 # set the correct class to 1\n",
    "    return y_onehot\n",
    "\n",
    "def back_prop(Z1, A1, Z2, A2, W2, X, Y):\n",
    "    '''Function to perform backpropagation'''\n",
    "    m = Y.size # number of examples\n",
    "    one_hot_y = one_hot_encoding(Y) # one hot encode the labels\n",
    "    dZ2 = A2 - one_hot_y # derivative of loss with respect to Z2\n",
    "    dW2 = (1/m) * dZ2.dot(A1.T) # derivative of loss with respect to W2\n",
    "    db2 = (1/m) * np.sum(dZ2, axis=1, keepdims=True) # derivative of loss with respect to b2\n",
    "\n",
    "    dA1 = W2.T.dot(dZ2) # derivative of loss with respect to A1\n",
    "    dZ1 = dA1 * (Z1 > 0) # derivative of loss with respect to Z1. Z1 > 0 is an elegant derivative of ReLU\n",
    "    dW1 = (1/m) * dZ1.dot(X.T) # derivative of loss with respect to W1\n",
    "    db1 = (1/m) * np.sum(dZ1, axis=1, keepdims=True) # derivative of loss with respect to b1\n",
    "\n",
    "    return dW1, db1, dW2, db2\n",
    "\n",
    "def update_params(W1, b1, W2, b2, dW1, db1, dW2, db2, learning_rate):\n",
    "    '''Function to update the model parameters using gradient descent'''\n",
    "    W1 = W1 - learning_rate * dW1\n",
    "    b1 = b1 - learning_rate * db1\n",
    "    W2 = W2 - learning_rate * dW2\n",
    "    b2 = b2 - learning_rate * db2\n",
    "    return W1, b1, W2, b2"
   ]
  },
  {
   "cell_type": "code",
   "execution_count": 88,
   "id": "9a9041d9",
   "metadata": {},
   "outputs": [],
   "source": [
    "def get_predictions(A2):\n",
    "    '''Function to get the predictions from the output of the network'''\n",
    "    return np.argmax(A2, axis=0) # return the index of the max element in each column\n",
    "\n",
    "def get_accuracy(predictions, Y):\n",
    "    '''Function to get the accuracy of the model'''\n",
    "    return np.sum(predictions == Y) / Y.size # return the accuracy\n",
    "\n",
    "def gradient_descent(X, Y, epochs, learning_rate): # epochs are the number of iterations\n",
    "    '''Function to perform gradient descent'''\n",
    "    W1, b1, W2, b2 = init_params() # initialise the model parameters\n",
    "    for i in range(epochs):\n",
    "        Z1, A1, Z2, A2 = forward_prop(W1, b1, W2, b2, X) # forward propagation\n",
    "        dW1, db1, dW2, db2 = back_prop(Z1, A1, Z2, A2, W2, X, Y) # backpropagation\n",
    "        W1, b1, W2, b2 = update_params(W1, b1, W2, b2, dW1, db1, dW2, db2, learning_rate) # update the model parameters\n",
    "        if i % 10 == 0:\n",
    "            print('Epoch %d' % i)\n",
    "            predictions = get_predictions(A2) # get the predictions\n",
    "            print('Accuracy: %.2f' % get_accuracy(predictions, Y)) # print the accuracy\n",
    "    return W1, b1, W2, b2"
   ]
  },
  {
   "cell_type": "code",
   "execution_count": 89,
   "id": "dd4462d9",
   "metadata": {},
   "outputs": [
    {
     "name": "stderr",
     "output_type": "stream",
     "text": [
      "C:\\Users\\grc2639\\AppData\\Local\\Temp\\ipykernel_2272\\285914705.py:18: RuntimeWarning: invalid value encountered in divide\n",
      "  return expZ / expZ.sum(axis=0, keepdims=True) # return softmax of Z\n"
     ]
    },
    {
     "name": "stdout",
     "output_type": "stream",
     "text": [
      "Epoch 0\n",
      "Accuracy: 0.10\n",
      "Epoch 10\n",
      "Accuracy: 0.10\n",
      "Epoch 20\n",
      "Accuracy: 0.10\n",
      "Epoch 30\n",
      "Accuracy: 0.10\n",
      "Epoch 40\n",
      "Accuracy: 0.10\n",
      "Epoch 50\n",
      "Accuracy: 0.10\n",
      "Epoch 60\n",
      "Accuracy: 0.10\n",
      "Epoch 70\n",
      "Accuracy: 0.10\n",
      "Epoch 80\n",
      "Accuracy: 0.10\n",
      "Epoch 90\n",
      "Accuracy: 0.10\n"
     ]
    },
    {
     "data": {
      "text/plain": [
       "(array([[nan, nan, nan, ..., nan, nan, nan],\n",
       "        [nan, nan, nan, ..., nan, nan, nan],\n",
       "        [nan, nan, nan, ..., nan, nan, nan],\n",
       "        ...,\n",
       "        [nan, nan, nan, ..., nan, nan, nan],\n",
       "        [nan, nan, nan, ..., nan, nan, nan],\n",
       "        [nan, nan, nan, ..., nan, nan, nan]], shape=(10, 784)),\n",
       " array([[nan],\n",
       "        [nan],\n",
       "        [nan],\n",
       "        [nan],\n",
       "        [nan],\n",
       "        [nan],\n",
       "        [nan],\n",
       "        [nan],\n",
       "        [nan],\n",
       "        [nan]]),\n",
       " array([[nan, nan, nan, nan, nan, nan, nan, nan, nan, nan],\n",
       "        [nan, nan, nan, nan, nan, nan, nan, nan, nan, nan],\n",
       "        [nan, nan, nan, nan, nan, nan, nan, nan, nan, nan],\n",
       "        [nan, nan, nan, nan, nan, nan, nan, nan, nan, nan],\n",
       "        [nan, nan, nan, nan, nan, nan, nan, nan, nan, nan],\n",
       "        [nan, nan, nan, nan, nan, nan, nan, nan, nan, nan],\n",
       "        [nan, nan, nan, nan, nan, nan, nan, nan, nan, nan],\n",
       "        [nan, nan, nan, nan, nan, nan, nan, nan, nan, nan],\n",
       "        [nan, nan, nan, nan, nan, nan, nan, nan, nan, nan],\n",
       "        [nan, nan, nan, nan, nan, nan, nan, nan, nan, nan]]),\n",
       " array([[nan],\n",
       "        [nan],\n",
       "        [nan],\n",
       "        [nan],\n",
       "        [nan],\n",
       "        [nan],\n",
       "        [nan],\n",
       "        [nan],\n",
       "        [nan],\n",
       "        [nan]]))"
      ]
     },
     "execution_count": 89,
     "metadata": {},
     "output_type": "execute_result"
    }
   ],
   "source": [
    "gradient_descent(X_train, y_train, epochs=100, learning_rate=0.1)"
   ]
  },
  {
   "cell_type": "code",
   "execution_count": null,
   "id": "cfe30e22",
   "metadata": {},
   "outputs": [],
   "source": []
  }
 ],
 "metadata": {
  "kernelspec": {
   "display_name": "Python 3",
   "language": "python",
   "name": "python3"
  },
  "language_info": {
   "codemirror_mode": {
    "name": "ipython",
    "version": 3
   },
   "file_extension": ".py",
   "mimetype": "text/x-python",
   "name": "python",
   "nbconvert_exporter": "python",
   "pygments_lexer": "ipython3",
   "version": "3.13.7"
  }
 },
 "nbformat": 4,
 "nbformat_minor": 5
}
