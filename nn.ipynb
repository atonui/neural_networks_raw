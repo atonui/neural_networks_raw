{
 "cells": [
  {
   "cell_type": "markdown",
   "id": "71a69918",
   "metadata": {},
   "source": [
    "https://www.youtube.com/watch?v=w8yWXqWQYmU&ab_channel=SamsonZhang"
   ]
  },
  {
   "cell_type": "code",
   "execution_count": 1,
   "id": "4710aba6",
   "metadata": {},
   "outputs": [],
   "source": [
    "import pandas as pd\n",
    "import numpy as np\n",
    "import matplotlib.pyplot as plt"
   ]
  },
  {
   "cell_type": "code",
   "execution_count": 2,
   "id": "59fee4bd",
   "metadata": {},
   "outputs": [],
   "source": [
    "data = pd.read_csv('train.csv')"
   ]
  },
  {
   "cell_type": "code",
   "execution_count": 3,
   "id": "bf996000",
   "metadata": {},
   "outputs": [
    {
     "data": {
      "text/html": [
       "<div>\n",
       "<style scoped>\n",
       "    .dataframe tbody tr th:only-of-type {\n",
       "        vertical-align: middle;\n",
       "    }\n",
       "\n",
       "    .dataframe tbody tr th {\n",
       "        vertical-align: top;\n",
       "    }\n",
       "\n",
       "    .dataframe thead th {\n",
       "        text-align: right;\n",
       "    }\n",
       "</style>\n",
       "<table border=\"1\" class=\"dataframe\">\n",
       "  <thead>\n",
       "    <tr style=\"text-align: right;\">\n",
       "      <th></th>\n",
       "      <th>label</th>\n",
       "      <th>pixel0</th>\n",
       "      <th>pixel1</th>\n",
       "      <th>pixel2</th>\n",
       "      <th>pixel3</th>\n",
       "      <th>pixel4</th>\n",
       "      <th>pixel5</th>\n",
       "      <th>pixel6</th>\n",
       "      <th>pixel7</th>\n",
       "      <th>pixel8</th>\n",
       "      <th>...</th>\n",
       "      <th>pixel774</th>\n",
       "      <th>pixel775</th>\n",
       "      <th>pixel776</th>\n",
       "      <th>pixel777</th>\n",
       "      <th>pixel778</th>\n",
       "      <th>pixel779</th>\n",
       "      <th>pixel780</th>\n",
       "      <th>pixel781</th>\n",
       "      <th>pixel782</th>\n",
       "      <th>pixel783</th>\n",
       "    </tr>\n",
       "  </thead>\n",
       "  <tbody>\n",
       "    <tr>\n",
       "      <th>0</th>\n",
       "      <td>1</td>\n",
       "      <td>0</td>\n",
       "      <td>0</td>\n",
       "      <td>0</td>\n",
       "      <td>0</td>\n",
       "      <td>0</td>\n",
       "      <td>0</td>\n",
       "      <td>0</td>\n",
       "      <td>0</td>\n",
       "      <td>0</td>\n",
       "      <td>...</td>\n",
       "      <td>0</td>\n",
       "      <td>0</td>\n",
       "      <td>0</td>\n",
       "      <td>0</td>\n",
       "      <td>0</td>\n",
       "      <td>0</td>\n",
       "      <td>0</td>\n",
       "      <td>0</td>\n",
       "      <td>0</td>\n",
       "      <td>0</td>\n",
       "    </tr>\n",
       "    <tr>\n",
       "      <th>1</th>\n",
       "      <td>0</td>\n",
       "      <td>0</td>\n",
       "      <td>0</td>\n",
       "      <td>0</td>\n",
       "      <td>0</td>\n",
       "      <td>0</td>\n",
       "      <td>0</td>\n",
       "      <td>0</td>\n",
       "      <td>0</td>\n",
       "      <td>0</td>\n",
       "      <td>...</td>\n",
       "      <td>0</td>\n",
       "      <td>0</td>\n",
       "      <td>0</td>\n",
       "      <td>0</td>\n",
       "      <td>0</td>\n",
       "      <td>0</td>\n",
       "      <td>0</td>\n",
       "      <td>0</td>\n",
       "      <td>0</td>\n",
       "      <td>0</td>\n",
       "    </tr>\n",
       "    <tr>\n",
       "      <th>2</th>\n",
       "      <td>1</td>\n",
       "      <td>0</td>\n",
       "      <td>0</td>\n",
       "      <td>0</td>\n",
       "      <td>0</td>\n",
       "      <td>0</td>\n",
       "      <td>0</td>\n",
       "      <td>0</td>\n",
       "      <td>0</td>\n",
       "      <td>0</td>\n",
       "      <td>...</td>\n",
       "      <td>0</td>\n",
       "      <td>0</td>\n",
       "      <td>0</td>\n",
       "      <td>0</td>\n",
       "      <td>0</td>\n",
       "      <td>0</td>\n",
       "      <td>0</td>\n",
       "      <td>0</td>\n",
       "      <td>0</td>\n",
       "      <td>0</td>\n",
       "    </tr>\n",
       "    <tr>\n",
       "      <th>3</th>\n",
       "      <td>4</td>\n",
       "      <td>0</td>\n",
       "      <td>0</td>\n",
       "      <td>0</td>\n",
       "      <td>0</td>\n",
       "      <td>0</td>\n",
       "      <td>0</td>\n",
       "      <td>0</td>\n",
       "      <td>0</td>\n",
       "      <td>0</td>\n",
       "      <td>...</td>\n",
       "      <td>0</td>\n",
       "      <td>0</td>\n",
       "      <td>0</td>\n",
       "      <td>0</td>\n",
       "      <td>0</td>\n",
       "      <td>0</td>\n",
       "      <td>0</td>\n",
       "      <td>0</td>\n",
       "      <td>0</td>\n",
       "      <td>0</td>\n",
       "    </tr>\n",
       "    <tr>\n",
       "      <th>4</th>\n",
       "      <td>0</td>\n",
       "      <td>0</td>\n",
       "      <td>0</td>\n",
       "      <td>0</td>\n",
       "      <td>0</td>\n",
       "      <td>0</td>\n",
       "      <td>0</td>\n",
       "      <td>0</td>\n",
       "      <td>0</td>\n",
       "      <td>0</td>\n",
       "      <td>...</td>\n",
       "      <td>0</td>\n",
       "      <td>0</td>\n",
       "      <td>0</td>\n",
       "      <td>0</td>\n",
       "      <td>0</td>\n",
       "      <td>0</td>\n",
       "      <td>0</td>\n",
       "      <td>0</td>\n",
       "      <td>0</td>\n",
       "      <td>0</td>\n",
       "    </tr>\n",
       "  </tbody>\n",
       "</table>\n",
       "<p>5 rows × 785 columns</p>\n",
       "</div>"
      ],
      "text/plain": [
       "   label  pixel0  pixel1  pixel2  pixel3  pixel4  pixel5  pixel6  pixel7  \\\n",
       "0      1       0       0       0       0       0       0       0       0   \n",
       "1      0       0       0       0       0       0       0       0       0   \n",
       "2      1       0       0       0       0       0       0       0       0   \n",
       "3      4       0       0       0       0       0       0       0       0   \n",
       "4      0       0       0       0       0       0       0       0       0   \n",
       "\n",
       "   pixel8  ...  pixel774  pixel775  pixel776  pixel777  pixel778  pixel779  \\\n",
       "0       0  ...         0         0         0         0         0         0   \n",
       "1       0  ...         0         0         0         0         0         0   \n",
       "2       0  ...         0         0         0         0         0         0   \n",
       "3       0  ...         0         0         0         0         0         0   \n",
       "4       0  ...         0         0         0         0         0         0   \n",
       "\n",
       "   pixel780  pixel781  pixel782  pixel783  \n",
       "0         0         0         0         0  \n",
       "1         0         0         0         0  \n",
       "2         0         0         0         0  \n",
       "3         0         0         0         0  \n",
       "4         0         0         0         0  \n",
       "\n",
       "[5 rows x 785 columns]"
      ]
     },
     "execution_count": 3,
     "metadata": {},
     "output_type": "execute_result"
    }
   ],
   "source": [
    "data.head()"
   ]
  },
  {
   "cell_type": "markdown",
   "id": "ee1d9329",
   "metadata": {},
   "source": [
    "Each row is and example."
   ]
  },
  {
   "cell_type": "code",
   "execution_count": 4,
   "id": "8d1b364f",
   "metadata": {},
   "outputs": [
    {
     "name": "stdout",
     "output_type": "stream",
     "text": [
      "Train:  (42000, 785)\n"
     ]
    }
   ],
   "source": [
    "# convert the pandas dataframe to a numpy array so we can perform matrix operations\n",
    "data = data.to_numpy()\n",
    "print('Train: ',data.shape)"
   ]
  },
  {
   "cell_type": "code",
   "execution_count": 5,
   "id": "67d12bec",
   "metadata": {},
   "outputs": [],
   "source": [
    "m, n = data.shape\n",
    "# shuffle the data so we can split it into train and validation sets\n",
    "np.random.shuffle(data)\n",
    "# split the data into train and validation sets\n",
    "train_set = data[:30000].T # select the first 30,000 rows and transpose the data so that columns are rows(examples)\n",
    "y_train = train_set[0] # first column is the label\n",
    "X_train = train_set[1:n] # rest of the columns are the features\n",
    "# the pixel values are between 0 and 255, we normalize them to be between 0 and 1\n",
    "X_train = X_train / 255.0\n",
    "\n",
    "# validation data\n",
    "val_set = data[30000:m].T # validation data and we transpose the data\n",
    "y_val = val_set[0] # first column is the label\n",
    "X_val = val_set[1:n] # rest of the columns are the features\n",
    "X_val = X_val / 255.0 # normalize the data"
   ]
  },
  {
   "cell_type": "code",
   "execution_count": 6,
   "id": "aa8cc55d",
   "metadata": {},
   "outputs": [
    {
     "name": "stdout",
     "output_type": "stream",
     "text": [
      "X_train data (784, 30000)\n",
      "X_val data (784, 12000)\n"
     ]
    }
   ],
   "source": [
    "print('X_train data', X_train.shape)\n",
    "print('X_val data', X_val.shape)"
   ]
  },
  {
   "cell_type": "code",
   "execution_count": 7,
   "id": "3f5fe954",
   "metadata": {},
   "outputs": [
    {
     "data": {
      "text/plain": [
       "(30000,)"
      ]
     },
     "execution_count": 7,
     "metadata": {},
     "output_type": "execute_result"
    }
   ],
   "source": [
    "y_train.shape"
   ]
  },
  {
   "cell_type": "code",
   "execution_count": 8,
   "id": "1c2669c2",
   "metadata": {},
   "outputs": [
    {
     "data": {
      "text/plain": [
       "array([5, 1, 9, ..., 1, 1, 1], shape=(12000,))"
      ]
     },
     "execution_count": 8,
     "metadata": {},
     "output_type": "execute_result"
    }
   ],
   "source": [
    "y_val"
   ]
  },
  {
   "cell_type": "code",
   "execution_count": 9,
   "id": "8a201821",
   "metadata": {},
   "outputs": [
    {
     "data": {
      "text/plain": [
       "array([[0., 0., 0., ..., 0., 0., 0.],\n",
       "       [0., 0., 0., ..., 0., 0., 0.],\n",
       "       [0., 0., 0., ..., 0., 0., 0.],\n",
       "       ...,\n",
       "       [0., 0., 0., ..., 0., 0., 0.],\n",
       "       [0., 0., 0., ..., 0., 0., 0.],\n",
       "       [0., 0., 0., ..., 0., 0., 0.]], shape=(784, 30000))"
      ]
     },
     "execution_count": 9,
     "metadata": {},
     "output_type": "execute_result"
    }
   ],
   "source": [
    "X_train"
   ]
  },
  {
   "cell_type": "code",
   "execution_count": 10,
   "id": "3ba06062",
   "metadata": {},
   "outputs": [
    {
     "data": {
      "text/plain": [
       "array([[-6.81975309e-02,  4.39236786e-01, -6.62204309e-02],\n",
       "       [ 8.50508435e-02, -4.93593485e-01, -4.36247958e-01],\n",
       "       [ 3.26507497e-01, -2.85440599e-01, -1.07087145e-06],\n",
       "       [-4.75176937e-01, -1.17003212e-01, -4.38831789e-01],\n",
       "       [-4.83224604e-01,  1.19491051e-01,  4.86368665e-01]])"
      ]
     },
     "execution_count": 10,
     "metadata": {},
     "output_type": "execute_result"
    }
   ],
   "source": [
    "np.random.rand(5, 3) - 0.5"
   ]
  },
  {
   "cell_type": "code",
   "execution_count": 11,
   "id": "144e5c63",
   "metadata": {},
   "outputs": [],
   "source": [
    "def init_params():\n",
    "    '''Function to initialise the model parameters'''\n",
    "    W1 = np.random.rand(10, 784) - 0.5 # weight matrix for hidden layer\n",
    "    b1 = np.random.rand(10, 1) - 0.5 # bias for hidden layer\n",
    "    W2 = np.random.rand(10, 10) - 0.5 # weight matrix for output layer\n",
    "    b2 = np.random.rand(10, 1) - 0.5 #  bias for output layer\n",
    "    return W1, b1, W2, b2\n",
    "\n",
    "def ReLU(Z):\n",
    "    '''ReLU activation function\n",
    "    This is an elementwise operation so it goes\n",
    "    through each element of Z and applies the ReLU function'''\n",
    "    return np.maximum(0, Z)\n",
    "\n",
    "def softmax(Z):\n",
    "    '''Softmax activation function'''\n",
    "    expZ = np.exp(Z - np.max(Z)) # subtracting the max for numerical stability\n",
    "    return expZ / expZ.sum(axis=0, keepdims=True) # return softmax of Z\n",
    "\n",
    "def forward_prop(W1, b1, W2, b2, X):\n",
    "    '''Function to perform forward propagation'''\n",
    "    Z1 = W1.dot(X) + b1 # linear activation for hidden layer, 784 x m\n",
    "    A1 = ReLU(Z1) # non-linear activation for hidden layer\n",
    "    Z2 = W2.dot(A1) + b2 # linear activation for output layer\n",
    "    A2 = softmax(Z2) # non-linear activation for output layer\n",
    "    return Z1, A1, Z2, A2 # return all the activations and linear combinations\n",
    "\n",
    "def one_hot_encoding(y):\n",
    "    '''Function to perform one hot encoding'''\n",
    "    m = y.shape[0] # number of examples\n",
    "    y_onehot = np.zeros((10, m)) # one hot encoding of y\n",
    "    for i in range(m):\n",
    "        y_onehot[y[i], i] = 1 # set the correct class to 1\n",
    "    return y_onehot\n",
    "\n",
    "def back_prop(Z1, A1, Z2, A2, W2, X, Y):\n",
    "    '''Function to perform backpropagation'''\n",
    "    m = Y.size # number of examples\n",
    "    one_hot_y = one_hot_encoding(Y) # one hot encode the labels\n",
    "    dZ2 = A2 - one_hot_y # derivative of loss with respect to Z2\n",
    "    dW2 = (1/m) * dZ2.dot(A1.T) # derivative of loss with respect to W2\n",
    "    db2 = (1/m) * np.sum(dZ2, axis=1, keepdims=True) # derivative of loss with respect to b2\n",
    "\n",
    "    dA1 = W2.T.dot(dZ2) # derivative of loss with respect to A1\n",
    "    dZ1 = dA1 * (Z1 > 0) # derivative of loss with respect to Z1. Z1 > 0 is an elegant derivative of ReLU\n",
    "    dW1 = (1/m) * dZ1.dot(X.T) # derivative of loss with respect to W1\n",
    "    db1 = (1/m) * np.sum(dZ1, axis=1, keepdims=True) # derivative of loss with respect to b1\n",
    "\n",
    "    return dW1, db1, dW2, db2\n",
    "\n",
    "def update_params(W1, b1, W2, b2, dW1, db1, dW2, db2, learning_rate):\n",
    "    '''Function to update the model parameters using gradient descent'''\n",
    "    W1 = W1 - learning_rate * dW1\n",
    "    b1 = b1 - learning_rate * db1\n",
    "    W2 = W2 - learning_rate * dW2\n",
    "    b2 = b2 - learning_rate * db2\n",
    "    return W1, b1, W2, b2"
   ]
  },
  {
   "cell_type": "code",
   "execution_count": 12,
   "id": "9a9041d9",
   "metadata": {},
   "outputs": [],
   "source": [
    "def get_predictions(A2):\n",
    "    '''Function to get the predictions from the output of the network'''\n",
    "    return np.argmax(A2, axis=0) # return the index of the max element in each column\n",
    "\n",
    "def get_accuracy(predictions, Y):\n",
    "    '''Function to get the accuracy of the model'''\n",
    "    return np.sum(predictions == Y) / Y.size # return the accuracy\n",
    "\n",
    "def gradient_descent(X, Y, epochs, learning_rate): # epochs are the number of iterations\n",
    "    '''Function to perform gradient descent'''\n",
    "    W1, b1, W2, b2 = init_params() # initialise the model parameters\n",
    "    for i in range(epochs):\n",
    "        Z1, A1, Z2, A2 = forward_prop(W1, b1, W2, b2, X) # forward propagation\n",
    "        dW1, db1, dW2, db2 = back_prop(Z1, A1, Z2, A2, W2, X, Y) # backpropagation\n",
    "        W1, b1, W2, b2 = update_params(W1, b1, W2, b2, dW1, db1, dW2, db2, learning_rate) # update the model parameters\n",
    "        if i % 10 == 0:\n",
    "            print('Epoch %d' % i)\n",
    "            predictions = get_predictions(A2) # get the predictions\n",
    "            print('Accuracy: %.2f' % get_accuracy(predictions, Y)) # print the accuracy\n",
    "    return W1, b1, W2, b2"
   ]
  },
  {
   "cell_type": "code",
   "execution_count": 13,
   "id": "d56d706c",
   "metadata": {},
   "outputs": [
    {
     "name": "stdout",
     "output_type": "stream",
     "text": [
      "Epoch 0\n",
      "Accuracy: 0.11\n",
      "Epoch 10\n",
      "Accuracy: 0.44\n",
      "Epoch 20\n",
      "Accuracy: 0.58\n",
      "Epoch 30\n",
      "Accuracy: 0.68\n",
      "Epoch 40\n",
      "Accuracy: 0.70\n",
      "Epoch 50\n",
      "Accuracy: 0.72\n",
      "Epoch 60\n",
      "Accuracy: 0.75\n",
      "Epoch 70\n",
      "Accuracy: 0.77\n",
      "Epoch 80\n",
      "Accuracy: 0.79\n",
      "Epoch 90\n",
      "Accuracy: 0.80\n",
      "Epoch 100\n",
      "Accuracy: 0.82\n",
      "Epoch 110\n",
      "Accuracy: 0.83\n",
      "Epoch 120\n",
      "Accuracy: 0.84\n",
      "Epoch 130\n",
      "Accuracy: 0.84\n",
      "Epoch 140\n",
      "Accuracy: 0.85\n",
      "Epoch 150\n",
      "Accuracy: 0.86\n",
      "Epoch 160\n",
      "Accuracy: 0.86\n",
      "Epoch 170\n",
      "Accuracy: 0.86\n",
      "Epoch 180\n",
      "Accuracy: 0.87\n",
      "Epoch 190\n",
      "Accuracy: 0.87\n",
      "Epoch 200\n",
      "Accuracy: 0.87\n",
      "Epoch 210\n",
      "Accuracy: 0.88\n",
      "Epoch 220\n",
      "Accuracy: 0.88\n",
      "Epoch 230\n",
      "Accuracy: 0.88\n",
      "Epoch 240\n",
      "Accuracy: 0.88\n",
      "Epoch 250\n",
      "Accuracy: 0.88\n",
      "Epoch 260\n",
      "Accuracy: 0.89\n",
      "Epoch 270\n",
      "Accuracy: 0.89\n",
      "Epoch 280\n",
      "Accuracy: 0.89\n",
      "Epoch 290\n",
      "Accuracy: 0.89\n",
      "Epoch 300\n",
      "Accuracy: 0.89\n",
      "Epoch 310\n",
      "Accuracy: 0.89\n",
      "Epoch 320\n",
      "Accuracy: 0.90\n",
      "Epoch 330\n",
      "Accuracy: 0.90\n",
      "Epoch 340\n",
      "Accuracy: 0.90\n",
      "Epoch 350\n",
      "Accuracy: 0.90\n",
      "Epoch 360\n",
      "Accuracy: 0.90\n",
      "Epoch 370\n",
      "Accuracy: 0.90\n",
      "Epoch 380\n",
      "Accuracy: 0.90\n",
      "Epoch 390\n",
      "Accuracy: 0.90\n",
      "Epoch 400\n",
      "Accuracy: 0.91\n",
      "Epoch 410\n",
      "Accuracy: 0.91\n",
      "Epoch 420\n",
      "Accuracy: 0.91\n",
      "Epoch 430\n",
      "Accuracy: 0.91\n",
      "Epoch 440\n",
      "Accuracy: 0.91\n",
      "Epoch 450\n",
      "Accuracy: 0.91\n",
      "Epoch 460\n",
      "Accuracy: 0.91\n",
      "Epoch 470\n",
      "Accuracy: 0.91\n",
      "Epoch 480\n",
      "Accuracy: 0.91\n",
      "Epoch 490\n",
      "Accuracy: 0.91\n",
      "Epoch 500\n",
      "Accuracy: 0.91\n",
      "Epoch 510\n",
      "Accuracy: 0.91\n",
      "Epoch 520\n",
      "Accuracy: 0.92\n",
      "Epoch 530\n",
      "Accuracy: 0.92\n",
      "Epoch 540\n",
      "Accuracy: 0.92\n",
      "Epoch 550\n",
      "Accuracy: 0.92\n",
      "Epoch 560\n",
      "Accuracy: 0.92\n",
      "Epoch 570\n",
      "Accuracy: 0.92\n",
      "Epoch 580\n",
      "Accuracy: 0.92\n",
      "Epoch 590\n",
      "Accuracy: 0.92\n",
      "Epoch 600\n",
      "Accuracy: 0.92\n",
      "Epoch 610\n",
      "Accuracy: 0.92\n",
      "Epoch 620\n",
      "Accuracy: 0.92\n",
      "Epoch 630\n",
      "Accuracy: 0.92\n",
      "Epoch 640\n",
      "Accuracy: 0.93\n",
      "Epoch 650\n",
      "Accuracy: 0.93\n",
      "Epoch 660\n",
      "Accuracy: 0.93\n",
      "Epoch 670\n",
      "Accuracy: 0.93\n",
      "Epoch 680\n",
      "Accuracy: 0.93\n",
      "Epoch 690\n",
      "Accuracy: 0.93\n",
      "Epoch 700\n",
      "Accuracy: 0.93\n",
      "Epoch 710\n",
      "Accuracy: 0.93\n",
      "Epoch 720\n",
      "Accuracy: 0.93\n",
      "Epoch 730\n",
      "Accuracy: 0.93\n",
      "Epoch 740\n",
      "Accuracy: 0.93\n",
      "Epoch 750\n",
      "Accuracy: 0.93\n",
      "Epoch 760\n",
      "Accuracy: 0.93\n",
      "Epoch 770\n",
      "Accuracy: 0.93\n",
      "Epoch 780\n",
      "Accuracy: 0.93\n",
      "Epoch 790\n",
      "Accuracy: 0.93\n",
      "Epoch 800\n",
      "Accuracy: 0.93\n",
      "Epoch 810\n",
      "Accuracy: 0.93\n",
      "Epoch 820\n",
      "Accuracy: 0.93\n",
      "Epoch 830\n",
      "Accuracy: 0.93\n",
      "Epoch 840\n",
      "Accuracy: 0.93\n",
      "Epoch 850\n",
      "Accuracy: 0.94\n",
      "Epoch 860\n",
      "Accuracy: 0.94\n",
      "Epoch 870\n",
      "Accuracy: 0.94\n",
      "Epoch 880\n",
      "Accuracy: 0.94\n",
      "Epoch 890\n",
      "Accuracy: 0.94\n",
      "Epoch 900\n",
      "Accuracy: 0.94\n",
      "Epoch 910\n",
      "Accuracy: 0.94\n",
      "Epoch 920\n",
      "Accuracy: 0.94\n",
      "Epoch 930\n",
      "Accuracy: 0.94\n",
      "Epoch 940\n",
      "Accuracy: 0.94\n",
      "Epoch 950\n",
      "Accuracy: 0.94\n",
      "Epoch 960\n",
      "Accuracy: 0.94\n",
      "Epoch 970\n",
      "Accuracy: 0.94\n",
      "Epoch 980\n",
      "Accuracy: 0.94\n",
      "Epoch 990\n",
      "Accuracy: 0.94\n"
     ]
    }
   ],
   "source": [
    "W1, b1, W2, b2 = gradient_descent(X_val, y_val, 1000, 0.5)"
   ]
  },
  {
   "cell_type": "markdown",
   "id": "e91d2cc4",
   "metadata": {},
   "source": [
    "We get a 92% accuracy on the validation set with a single layer neural network, running 500 iterations at a learning rate of 0.5. This is pretty good. Next we shall try increasing the number of layers. But first, let us look at some of the images and their predictions."
   ]
  },
  {
   "cell_type": "code",
   "execution_count": 14,
   "id": "2177a009",
   "metadata": {},
   "outputs": [
    {
     "name": "stdout",
     "output_type": "stream",
     "text": [
      "[[ 0.03442538  0.3266777   0.10334644 ... -0.01025249 -0.28479712\n",
      "   0.04244506]\n",
      " [ 0.24775593 -0.22376879 -0.11409981 ...  0.39255645 -0.35917588\n",
      "  -0.0461463 ]\n",
      " [-0.10571341  0.358455   -0.37603377 ... -0.43258932  0.33592469\n",
      "  -0.01711399]\n",
      " ...\n",
      " [ 0.43758118  0.27704776  0.38630098 ... -0.0134234   0.28881124\n",
      "  -0.19379876]\n",
      " [-0.09612017 -0.21687833  0.44233645 ... -0.4236537  -0.15160576\n",
      "  -0.05096176]\n",
      " [-0.22610516 -0.34624704 -0.44498095 ...  0.36734578  0.45152516\n",
      "   0.16499381]] [[-0.11700165]\n",
      " [-0.30890307]\n",
      " [ 0.14998303]\n",
      " [-0.87500321]\n",
      " [ 0.49845017]\n",
      " [ 0.75124607]\n",
      " [ 0.29935685]\n",
      " [ 0.02393559]\n",
      " [-0.0600526 ]\n",
      " [ 1.03380696]] [[ 0.41968737  0.7183301  -1.61502044 -0.07009371  0.06218222  0.69388403\n",
      "   0.84176209  0.2526656  -0.43620687 -0.58650309]\n",
      " [-0.26883694 -0.05369919  1.40321984 -0.18148954 -0.48175167  0.10701603\n",
      "   0.17879984 -1.00420683  0.4637636  -0.86369882]\n",
      " [-1.62280172 -0.27504959 -0.12688343 -0.01951057  0.31135166 -0.03714936\n",
      "  -0.16391346  0.75930433  1.06990297 -0.23125918]\n",
      " [-0.26239197  0.26591734  0.42516653  0.2501816  -0.06778072 -0.17740982\n",
      "  -0.60888674  1.0020877  -0.04906937 -0.0067736 ]\n",
      " [-0.16968361 -0.44850585  0.17177328 -0.38987573  0.63091966 -0.73354883\n",
      "  -0.1568881  -1.17951409 -0.35800163  0.74303602]\n",
      " [ 0.64618624  0.26553217 -0.53902268  0.09683235  0.25060367  1.19205793\n",
      "  -0.56886284  0.15257703 -0.46470405 -0.1432293 ]\n",
      " [-0.09046088  0.83089596 -0.23239924 -0.21400323  0.90489889  0.52259613\n",
      "   0.31016277 -0.69403755 -0.44385487 -1.33203136]\n",
      " [-0.79054146 -0.11971168 -0.22342332 -0.17768975 -1.92427596 -0.65258774\n",
      "   0.25502157  0.2705366   0.66308491  1.2560193 ]\n",
      " [-0.16432033 -0.0911107   0.097128    1.26771437  0.17458596 -0.79191554\n",
      "  -0.47083486  0.11177122 -0.5880863  -0.51173425]\n",
      " [-0.16214194  0.29577192 -0.02315852  0.59726551 -0.54857658 -0.46811733\n",
      "   0.15301759 -0.6215678  -0.35913974  0.99767409]] [[-0.31140834]\n",
      " [-0.17535391]\n",
      " [-0.26473799]\n",
      " [-0.76063668]\n",
      " [ 0.06737966]\n",
      " [ 0.52420323]\n",
      " [-0.20586319]\n",
      " [ 1.49824041]\n",
      " [-0.50099882]\n",
      " [ 0.1982024 ]]\n"
     ]
    }
   ],
   "source": [
    "print(W1, b1, W2, b2)"
   ]
  },
  {
   "cell_type": "code",
   "execution_count": 15,
   "id": "2989d59e",
   "metadata": {},
   "outputs": [],
   "source": [
    "def make_predictions(X, W1, b1, W2, b2):\n",
    "    '''Function to make predictions on new data'''\n",
    "    _, _, _, A2 = forward_prop(W1, b1, W2, b2, X) # forward propagation\n",
    "    predictions = get_predictions(A2) # get the predictions\n",
    "    return predictions\n",
    "\n",
    "def test_prediction(index, W1, b1, W2, b2):\n",
    "    '''Function to test the predictions'''\n",
    "    current_image = X_val[:, index, None]\n",
    "    prediction = make_predictions(X_val[:, index, None], W1, b1, W2, b2)\n",
    "    label = y_val[index]\n",
    "    print(\"Prediction: \", prediction)\n",
    "    print(\"Label: \", label)\n",
    "    \n",
    "    current_image = current_image.reshape((28, 28)) * 255\n",
    "    plt.gray()\n",
    "    plt.imshow(current_image, interpolation='nearest')\n",
    "    plt.show()"
   ]
  },
  {
   "cell_type": "code",
   "execution_count": 16,
   "id": "4d28a9ef",
   "metadata": {},
   "outputs": [
    {
     "name": "stdout",
     "output_type": "stream",
     "text": [
      "Prediction:  [5]\n",
      "Label:  5\n"
     ]
    },
    {
     "data": {
      "image/png": "[encoded data removed]",
      "text/plain": [
       "<Figure size 640x480 with 1 Axes>"
      ]
     },
     "metadata": {},
     "output_type": "display_data"
    },
    {
     "name": "stdout",
     "output_type": "stream",
     "text": [
      "Prediction:  [1]\n",
      "Label:  1\n"
     ]
    },
    {
     "data": {
      "image/png": "[encoded data removed]",
      "text/plain": [
       "<Figure size 640x480 with 1 Axes>"
      ]
     },
     "metadata": {},
     "output_type": "display_data"
    },
    {
     "name": "stdout",
     "output_type": "stream",
     "text": [
      "Prediction:  [9]\n",
      "Label:  9\n"
     ]
    },
    {
     "data": {
      "image/png": "[encoded data removed]",
      "text/plain": [
       "<Figure size 640x480 with 1 Axes>"
      ]
     },
     "metadata": {},
     "output_type": "display_data"
    },
    {
     "name": "stdout",
     "output_type": "stream",
     "text": [
      "Prediction:  [2]\n",
      "Label:  2\n"
     ]
    },
    {
     "data": {
      "image/png": "[encoded data removed]",
      "text/plain": [
       "<Figure size 640x480 with 1 Axes>"
      ]
     },
     "metadata": {},
     "output_type": "display_data"
    },
    {
     "name": "stdout",
     "output_type": "stream",
     "text": [
      "Prediction:  [9]\n",
      "Label:  9\n"
     ]
    },
    {
     "data": {
      "image/png": "[encoded data removed]",
      "text/plain": [
       "<Figure size 640x480 with 1 Axes>"
      ]
     },
     "metadata": {},
     "output_type": "display_data"
    },
    {
     "name": "stdout",
     "output_type": "stream",
     "text": [
      "Prediction:  [8]\n",
      "Label:  8\n"
     ]
    },
    {
     "data": {
      "image/png": "[encoded data removed]",
      "text/plain": [
       "<Figure size 640x480 with 1 Axes>"
      ]
     },
     "metadata": {},
     "output_type": "display_data"
    },
    {
     "name": "stdout",
     "output_type": "stream",
     "text": [
      "Prediction:  [2]\n",
      "Label:  2\n"
     ]
    },
    {
     "data": {
      "image/png": "[encoded data removed]",
      "text/plain": [
       "<Figure size 640x480 with 1 Axes>"
      ]
     },
     "metadata": {},
     "output_type": "display_data"
    },
    {
     "name": "stdout",
     "output_type": "stream",
     "text": [
      "Prediction:  [1]\n",
      "Label:  1\n"
     ]
    },
    {
     "data": {
      "image/png": "[encoded data removed]",
      "text/plain": [
       "<Figure size 640x480 with 1 Axes>"
      ]
     },
     "metadata": {},
     "output_type": "display_data"
    }
   ],
   "source": [
    "test_prediction(0, W1, b1, W2, b2)\n",
    "test_prediction(1, W1, b1, W2, b2)\n",
    "test_prediction(2, W1, b1, W2, b2)\n",
    "test_prediction(3, W1, b1, W2, b2)\n",
    "test_prediction(52, W1, b1, W2, b2)\n",
    "test_prediction(6, W1, b1, W2, b2)\n",
    "test_prediction(28, W1, b1, W2, b2)\n",
    "test_prediction(39, W1, b1, W2, b2)"
   ]
  },
  {
   "cell_type": "markdown",
   "id": "fe2aafc5",
   "metadata": {},
   "source": []
  },
  {
   "cell_type": "markdown",
   "id": "b6f703ef",
   "metadata": {},
   "source": [
    "The model does pretty well on data it has not seen. I shall extend this with more layers and an optimiser to see if it improves."
   ]
  },
  {
   "cell_type": "code",
   "execution_count": null,
   "id": "a9f716dd",
   "metadata": {},
   "outputs": [],
   "source": []
  }
 ],
 "metadata": {
  "kernelspec": {
   "display_name": "Python 3",
   "language": "python",
   "name": "python3"
  },
  "language_info": {
   "codemirror_mode": {
    "name": "ipython",
    "version": 3
   },
   "file_extension": ".py",
   "mimetype": "text/x-python",
   "name": "python",
   "nbconvert_exporter": "python",
   "pygments_lexer": "ipython3",
   "version": "3.13.7"
  }
 },
 "nbformat": 4,
 "nbformat_minor": 5
}
